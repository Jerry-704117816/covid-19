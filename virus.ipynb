{
 "cells": [
  {
   "cell_type": "markdown",
   "metadata": {
    "toc": true
   },
   "source": [
    "<h1>Table of Contents<span class=\"tocSkip\"></span></h1>\n",
    "<div class=\"toc\"><ul class=\"toc-item\"><li><span><a href=\"#导包\" data-toc-modified-id=\"导包-1\"><span class=\"toc-item-num\">1&nbsp;&nbsp;</span>导包</a></span></li><li><span><a href=\"#从腾讯疫情界面调取数据接口，得到疫情历史数据\" data-toc-modified-id=\"从腾讯疫情界面调取数据接口，得到疫情历史数据-2\"><span class=\"toc-item-num\">2&nbsp;&nbsp;</span>从腾讯疫情界面调取数据接口，得到疫情历史数据</a></span></li><li><span><a href=\"#数据清洗\" data-toc-modified-id=\"数据清洗-3\"><span class=\"toc-item-num\">3&nbsp;&nbsp;</span>数据清洗</a></span></li></ul></div>"
   ]
  },
  {
   "cell_type": "markdown",
   "metadata": {},
   "source": [
    "### 导包"
   ]
  },
  {
   "cell_type": "code",
   "execution_count": 13,
   "metadata": {},
   "outputs": [],
   "source": [
    "import json,time,requests\n",
    "\n",
    "import numpy as np\n",
    "import pandas as pd"
   ]
  },
  {
   "cell_type": "markdown",
   "metadata": {},
   "source": [
    "### 从腾讯疫情界面调取数据接口，得到疫情历史数据"
   ]
  },
  {
   "cell_type": "code",
   "execution_count": 14,
   "metadata": {
    "scrolled": false
   },
   "outputs": [],
   "source": [
    "url = 'https://view.inews.qq.com/g2/getOnsInfo?name=disease_other&callback=jQuery341026745307075030955_1584946267054&_=1584946267055'\n",
    "headers ={\n",
    "    'user-agent': 'Mozilla/5.0 (Windows NT 10.0; WOW64) AppleWebKit/537.36 (KHTML, like Gecko) Chrome/70.0.3538.25 Safari/537.36 Core/1.70.3741.400 QQBrowser/10.5.3863.400'\n",
    "}\n",
    "res = requests.get(url,headers=headers)\n",
    "response_data = json.loads(res.text.replace('jQuery341026745307075030955_1584946267054(','')[:-1])\n"
   ]
  },
  {
   "cell_type": "markdown",
   "metadata": {},
   "source": [
    "### 数据清洗"
   ]
  },
  {
   "cell_type": "code",
   "execution_count": 15,
   "metadata": {},
   "outputs": [],
   "source": [
    "data = json.loads(response_data['data'])\n",
    "a = []\n",
    "b = []\n",
    "c = []\n",
    "d = []\n",
    "e = []\n",
    "\n",
    "# 遍历数据，取出目标数据（时间，治愈人数，死亡人数）\n",
    "for x in data['dailyHistory']:\n",
    "    a.append(x['date'])\n",
    "    c.append(x['country']['heal'])\n",
    "    d.append(x['country']['dead'])\n",
    "\n",
    "# 遍历取出累计确诊认识\n",
    "for x in data['chinaDayList']:\n",
    "    b.append(x['date'])\n",
    "    e.append(x['confirm'])\n",
    "\n",
    "# 结果保存成Dataframe    \n",
    "result = pd.DataFrame({'date':a,'heal':c, 'dead':d})\n",
    "\n",
    "result1 = pd.DataFrame({'date':b,'confirm':e})\n",
    "result1 = result1.iloc[:-1]\n",
    "\n",
    "# 把confirm按照时间匹配\n",
    "result2 = result.merge(result1,left_on='date',right_on='date')"
   ]
  },
  {
   "cell_type": "code",
   "execution_count": 16,
   "metadata": {},
   "outputs": [],
   "source": [
    "# 获取累计确诊人数\n",
    "new_confirm = result2['confirm'].diff().fillna(0)\n",
    "\n",
    "# 获取累计治愈人数\n",
    "new_heal = result2['heal'].diff().fillna(0)"
   ]
  },
  {
   "cell_type": "code",
   "execution_count": 17,
   "metadata": {},
   "outputs": [],
   "source": [
    "# 添加到总数据Dataframe并重命名为finall_data\n",
    "result2 ['new_confirm'] = new_confirm\n",
    "result2 ['new_heal'] = new_heal\n",
    "finall_data = result2"
   ]
  },
  {
   "cell_type": "code",
   "execution_count": 18,
   "metadata": {},
   "outputs": [
    {
     "data": {
      "text/html": [
       "<div>\n",
       "<style scoped>\n",
       "    .dataframe tbody tr th:only-of-type {\n",
       "        vertical-align: middle;\n",
       "    }\n",
       "\n",
       "    .dataframe tbody tr th {\n",
       "        vertical-align: top;\n",
       "    }\n",
       "\n",
       "    .dataframe thead th {\n",
       "        text-align: right;\n",
       "    }\n",
       "</style>\n",
       "<table border=\"1\" class=\"dataframe\">\n",
       "  <thead>\n",
       "    <tr style=\"text-align: right;\">\n",
       "      <th></th>\n",
       "      <th>date</th>\n",
       "      <th>heal</th>\n",
       "      <th>dead</th>\n",
       "      <th>confirm</th>\n",
       "      <th>new_confirm</th>\n",
       "      <th>new_heal</th>\n",
       "    </tr>\n",
       "  </thead>\n",
       "  <tbody>\n",
       "    <tr>\n",
       "      <th>0</th>\n",
       "      <td>01.20</td>\n",
       "      <td>25</td>\n",
       "      <td>6</td>\n",
       "      <td>291</td>\n",
       "      <td>0.0</td>\n",
       "      <td>0.0</td>\n",
       "    </tr>\n",
       "    <tr>\n",
       "      <th>1</th>\n",
       "      <td>01.23</td>\n",
       "      <td>34</td>\n",
       "      <td>25</td>\n",
       "      <td>835</td>\n",
       "      <td>544.0</td>\n",
       "      <td>9.0</td>\n",
       "    </tr>\n",
       "    <tr>\n",
       "      <th>2</th>\n",
       "      <td>01.24</td>\n",
       "      <td>38</td>\n",
       "      <td>41</td>\n",
       "      <td>1297</td>\n",
       "      <td>462.0</td>\n",
       "      <td>4.0</td>\n",
       "    </tr>\n",
       "    <tr>\n",
       "      <th>3</th>\n",
       "      <td>01.25</td>\n",
       "      <td>49</td>\n",
       "      <td>56</td>\n",
       "      <td>1985</td>\n",
       "      <td>688.0</td>\n",
       "      <td>11.0</td>\n",
       "    </tr>\n",
       "    <tr>\n",
       "      <th>4</th>\n",
       "      <td>01.26</td>\n",
       "      <td>51</td>\n",
       "      <td>80</td>\n",
       "      <td>2761</td>\n",
       "      <td>776.0</td>\n",
       "      <td>2.0</td>\n",
       "    </tr>\n",
       "    <tr>\n",
       "      <th>...</th>\n",
       "      <td>...</td>\n",
       "      <td>...</td>\n",
       "      <td>...</td>\n",
       "      <td>...</td>\n",
       "      <td>...</td>\n",
       "      <td>...</td>\n",
       "    </tr>\n",
       "    <tr>\n",
       "      <th>112</th>\n",
       "      <td>05.14</td>\n",
       "      <td>79644</td>\n",
       "      <td>4644</td>\n",
       "      <td>84469</td>\n",
       "      <td>5.0</td>\n",
       "      <td>23.0</td>\n",
       "    </tr>\n",
       "    <tr>\n",
       "      <th>113</th>\n",
       "      <td>05.15</td>\n",
       "      <td>79668</td>\n",
       "      <td>4644</td>\n",
       "      <td>84478</td>\n",
       "      <td>9.0</td>\n",
       "      <td>24.0</td>\n",
       "    </tr>\n",
       "    <tr>\n",
       "      <th>114</th>\n",
       "      <td>05.16</td>\n",
       "      <td>79682</td>\n",
       "      <td>4645</td>\n",
       "      <td>84484</td>\n",
       "      <td>6.0</td>\n",
       "      <td>14.0</td>\n",
       "    </tr>\n",
       "    <tr>\n",
       "      <th>115</th>\n",
       "      <td>05.17</td>\n",
       "      <td>79701</td>\n",
       "      <td>4645</td>\n",
       "      <td>84494</td>\n",
       "      <td>10.0</td>\n",
       "      <td>19.0</td>\n",
       "    </tr>\n",
       "    <tr>\n",
       "      <th>116</th>\n",
       "      <td>05.18</td>\n",
       "      <td>79708</td>\n",
       "      <td>4645</td>\n",
       "      <td>84500</td>\n",
       "      <td>6.0</td>\n",
       "      <td>7.0</td>\n",
       "    </tr>\n",
       "  </tbody>\n",
       "</table>\n",
       "<p>117 rows × 6 columns</p>\n",
       "</div>"
      ],
      "text/plain": [
       "      date   heal  dead  confirm  new_confirm  new_heal\n",
       "0    01.20     25     6      291          0.0       0.0\n",
       "1    01.23     34    25      835        544.0       9.0\n",
       "2    01.24     38    41     1297        462.0       4.0\n",
       "3    01.25     49    56     1985        688.0      11.0\n",
       "4    01.26     51    80     2761        776.0       2.0\n",
       "..     ...    ...   ...      ...          ...       ...\n",
       "112  05.14  79644  4644    84469          5.0      23.0\n",
       "113  05.15  79668  4644    84478          9.0      24.0\n",
       "114  05.16  79682  4645    84484          6.0      14.0\n",
       "115  05.17  79701  4645    84494         10.0      19.0\n",
       "116  05.18  79708  4645    84500          6.0       7.0\n",
       "\n",
       "[117 rows x 6 columns]"
      ]
     },
     "execution_count": 18,
     "metadata": {},
     "output_type": "execute_result"
    }
   ],
   "source": [
    "finall_data"
   ]
  },
  {
   "cell_type": "code",
   "execution_count": 19,
   "metadata": {},
   "outputs": [],
   "source": [
    "# 把数据保存成csv文件\n",
    "# finall_data.to_csv('./virus.csv')"
   ]
  }
 ],
 "metadata": {
  "kernelspec": {
   "display_name": "Python 3",
   "language": "python",
   "name": "python3"
  },
  "language_info": {
   "codemirror_mode": {
    "name": "ipython",
    "version": 3
   },
   "file_extension": ".py",
   "mimetype": "text/x-python",
   "name": "python",
   "nbconvert_exporter": "python",
   "pygments_lexer": "ipython3",
   "version": "3.7.4"
  },
  "toc": {
   "base_numbering": 1,
   "nav_menu": {},
   "number_sections": true,
   "sideBar": true,
   "skip_h1_title": false,
   "title_cell": "Table of Contents",
   "title_sidebar": "Contents",
   "toc_cell": true,
   "toc_position": {},
   "toc_section_display": true,
   "toc_window_display": true
  }
 },
 "nbformat": 4,
 "nbformat_minor": 4
}
